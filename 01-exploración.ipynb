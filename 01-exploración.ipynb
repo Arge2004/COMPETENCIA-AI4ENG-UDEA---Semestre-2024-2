{
  "nbformat": 4,
  "nbformat_minor": 0,
  "metadata": {
    "colab": {
      "provenance": [],
      "authorship_tag": "ABX9TyNqWEryU/HmIv6OiuEy/K/C"
    },
    "kernelspec": {
      "name": "python3",
      "display_name": "Python 3"
    },
    "language_info": {
      "name": "python"
    }
  },
  "cells": [
    {
      "cell_type": "code",
      "execution_count": null,
      "metadata": {
        "id": "5bo7C25bZVO6"
      },
      "outputs": [],
      "source": []
    }
  ]
}